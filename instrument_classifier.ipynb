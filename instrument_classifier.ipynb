{
  "nbformat": 4,
  "nbformat_minor": 0,
  "metadata": {
    "colab": {
      "name": "instrument_classifier.ipynb",
      "provenance": [],
      "collapsed_sections": [],
      "authorship_tag": "ABX9TyPdcieDcoG7OpxrDOA22itF",
      "include_colab_link": true
    },
    "kernelspec": {
      "name": "python3",
      "display_name": "Python 3"
    },
    "language_info": {
      "name": "python"
    },
    "accelerator": "GPU"
  },
  "cells": [
    {
      "cell_type": "markdown",
      "metadata": {
        "id": "view-in-github",
        "colab_type": "text"
      },
      "source": [
        "<a href=\"https://colab.research.google.com/github/doduck210/Instrument_Classifier/blob/main/instrument_classifier.ipynb\" target=\"_parent\"><img src=\"https://colab.research.google.com/assets/colab-badge.svg\" alt=\"Open In Colab\"/></a>"
      ]
    },
    {
      "cell_type": "code",
      "metadata": {
        "colab": {
          "base_uri": "https://localhost:8080/"
        },
        "id": "DiXb970e2Xws",
        "outputId": "56e30bc3-4661-4ff4-ab79-2779c10d747c"
      },
      "source": [
        "#for using CoLab\n",
        "from google.colab import drive\n",
        "drive.mount('/content/gdrive')"
      ],
      "execution_count": 2,
      "outputs": [
        {
          "output_type": "stream",
          "text": [
            "Mounted at /content/gdrive\n"
          ],
          "name": "stdout"
        }
      ]
    },
    {
      "cell_type": "code",
      "metadata": {
        "colab": {
          "base_uri": "https://localhost:8080/"
        },
        "id": "GDStGHFt3ISW",
        "outputId": "e9eef2de-1430-449a-dc58-73d633fbe292"
      },
      "source": [
        "#for using CoLab\n",
        "!pip3 install http://download.pytorch.org/whl/cu80/torch-0.3.0.post4-cp36-cp36m-linux_x86_64.whl\n",
        "!pip3 install torchvision"
      ],
      "execution_count": 3,
      "outputs": [
        {
          "output_type": "stream",
          "text": [
            "\u001b[31mERROR: torch-0.3.0.post4-cp36-cp36m-linux_x86_64.whl is not a supported wheel on this platform.\u001b[0m\n",
            "Requirement already satisfied: torchvision in /usr/local/lib/python3.7/dist-packages (0.9.1+cu101)\n",
            "Requirement already satisfied: numpy in /usr/local/lib/python3.7/dist-packages (from torchvision) (1.19.5)\n",
            "Requirement already satisfied: pillow>=4.1.1 in /usr/local/lib/python3.7/dist-packages (from torchvision) (7.1.2)\n",
            "Requirement already satisfied: torch==1.8.1 in /usr/local/lib/python3.7/dist-packages (from torchvision) (1.8.1+cu101)\n",
            "Requirement already satisfied: typing-extensions in /usr/local/lib/python3.7/dist-packages (from torch==1.8.1->torchvision) (3.7.4.3)\n"
          ],
          "name": "stdout"
        }
      ]
    },
    {
      "cell_type": "code",
      "metadata": {
        "colab": {
          "base_uri": "https://localhost:8080/",
          "height": 35
        },
        "id": "-vIuifIN3TAQ",
        "outputId": "e41a0da5-5986-4c8b-b1e3-32e21294115d"
      },
      "source": [
        "import itertools\n",
        "import torch\n",
        "import torch.nn as nn\n",
        "import torch.nn.functional as F\n",
        "import torch.optim as optim\n",
        "import matplotlib.pyplot as plt\n",
        "import numpy as np\n",
        "import random\n",
        "torch.cuda.get_device_name(0)"
      ],
      "execution_count": 4,
      "outputs": [
        {
          "output_type": "execute_result",
          "data": {
            "application/vnd.google.colaboratory.intrinsic+json": {
              "type": "string"
            },
            "text/plain": [
              "'Tesla K80'"
            ]
          },
          "metadata": {
            "tags": []
          },
          "execution_count": 4
        }
      ]
    },
    {
      "cell_type": "code",
      "metadata": {
        "colab": {
          "base_uri": "https://localhost:8080/"
        },
        "id": "PnpEUvga33eE",
        "outputId": "3d1174c6-c5cb-4cc9-eedb-47bac8409f3c"
      },
      "source": [
        "#데이터 확인\n",
        "npz=np.load('/content/gdrive/My Drive/audio/cqt.npz')\n",
        "x=npz['spec']\n",
        "y=npz['instr']\n",
        "print(\"input shape : \",x.shape) \n",
        "print(\"label shape : \",y.shape)"
      ],
      "execution_count": 5,
      "outputs": [
        {
          "output_type": "stream",
          "text": [
            "input shape :  (20488, 168, 87)\n",
            "label shape :  (20488, 2)\n"
          ],
          "name": "stdout"
        }
      ]
    },
    {
      "cell_type": "code",
      "metadata": {
        "id": "1WwJYwwssuL3"
      },
      "source": [
        "use_cuda = torch.cuda.is_available()\n",
        "class InstrumentClassifier(nn.Module):\n",
        "  def __init__(self):\n",
        "    super(InstrumentClassifier,self).__init__()\n",
        "    #input : [256, 1, 168, 87]\n",
        "    conv1=nn.Conv2d(1,6,(23,4)) #6@146x84\n",
        "    bn1=nn.BatchNorm2d(6)\n",
        "    #ReLU\n",
        "    pool1=nn.MaxPool2d(2) #6@73x42\n",
        "    conv2=nn.Conv2d(6,6,(6,3)) #10@68x40\n",
        "    bn2=nn.BatchNorm2d(6)\n",
        "    #ReLU\n",
        "    pool2=nn.MaxPool2d(2) #10@34x20\n",
        "    conv3=nn.Conv2d(16,32,(5,5)) #28@30x16\n",
        "    bn3=nn.BatchNorm2d(32)\n",
        "    #ReLU\n",
        "    pool3=nn.MaxPool2d(2) #28@15x8\n",
        "    \n",
        "    dropout= nn.Dropout()\n",
        "    #nn.init.xavier_uniform_(conv1.weight)\n",
        "    #nn.init.xavier_uniform_(conv2.weight)\n",
        "    #nn.init.xavier_uniform_(conv3.weight)\n",
        "\n",
        "    self.conv_module=nn.Sequential(\n",
        "        conv1, bn1,\n",
        "        nn.ReLU(),\n",
        "        pool1,\n",
        "        conv2, bn2,\n",
        "        nn.ReLU(),\n",
        "        pool2#,\n",
        "        #conv3,\n",
        "        #nn.ReLU(),# dropout,\n",
        "        #pool3\n",
        "    )\n",
        "\n",
        "    fc1=nn.Linear(6*34*20,174)\n",
        "    #ReLU\n",
        "    #fc2=nn.Linear(500,174)\n",
        "    \n",
        "    self.fc_module=nn.Sequential(\n",
        "        fc1\n",
        "        #nn.ReLU(),\n",
        "        #fc2\n",
        "    )\n",
        "    if use_cuda:\n",
        "      self.conv_module=self.conv_module.cuda()\n",
        "      self.fc_module=self.fc_module.cuda()\n",
        "    \n",
        "  def forward(self,x):\n",
        "    out=self.conv_module(x)\n",
        "    dim=1\n",
        "    out=out.view(out.size(0),-1)\n",
        "    out=self.fc_module(out)\n",
        "    return F.softmax(out,dim=1)"
      ],
      "execution_count": 15,
      "outputs": []
    },
    {
      "cell_type": "code",
      "metadata": {
        "id": "awqyqqlw0Fbd"
      },
      "source": [
        "cnn=InstrumentClassifier()\n",
        "criterion=torch.nn.CrossEntropyLoss()\n",
        "optimizer=torch.optim.Adam(cnn.parameters(),lr=1e-3)"
      ],
      "execution_count": 16,
      "outputs": []
    },
    {
      "cell_type": "code",
      "metadata": {
        "colab": {
          "base_uri": "https://localhost:8080/",
          "height": 1000
        },
        "id": "Stqw5FcNfOYT",
        "outputId": "8e01cee7-1b7f-4161-c798-73d813eec083"
      },
      "source": [
        "ridx = list(range(len(x)))\n",
        "random.shuffle(ridx)\n",
        "batch_size = 256\n",
        "for e in range(100):\n",
        "  ac=0\n",
        "  for b in range(0,len(ridx),batch_size) : \n",
        "    tr=ridx[b:b+batch_size]\n",
        "    input=torch.tensor(x[tr])\n",
        "    input=input.unsqueeze(1)\n",
        "    input=input.cuda()\n",
        "    output=torch.tensor(y[tr,0])\n",
        "    output=torch.tensor(output,dtype=torch.long)\n",
        "    output=output.cuda()\n",
        "    #print(\"x : \",input.shape) #torch.Size([256, 1, 168, 87])\n",
        "    #print(\"y : \",output.shape) #torch.Size([256])\n",
        "\n",
        "    optimizer.zero_grad()\n",
        "    model_output=cnn(input) #torch.Size([256, 174])\n",
        "    #print(model_output.shape)\n",
        "    loss=criterion(model_output,output)\n",
        "    loss.backward()\n",
        "    optimizer.step()\n",
        "    for acc in range(0,model_output.shape[0]) : \n",
        "      pre=torch.argmax(model_output[acc])\n",
        "      if pre==output[acc]: ac+=1;\n",
        "    \n",
        "    if (b//batch_size)%10==0 : print('e : ',e,\"loss : \",loss)\n",
        "  \n",
        "  print(\"cur acc : \",ac/len(ridx))"
      ],
      "execution_count": 17,
      "outputs": [
        {
          "output_type": "stream",
          "text": [
            "/usr/local/lib/python3.7/dist-packages/ipykernel_launcher.py:12: UserWarning: To copy construct from a tensor, it is recommended to use sourceTensor.clone().detach() or sourceTensor.clone().detach().requires_grad_(True), rather than torch.tensor(sourceTensor).\n",
            "  if sys.path[0] == '':\n"
          ],
          "name": "stderr"
        },
        {
          "output_type": "stream",
          "text": [
            "e :  0 loss :  tensor(5.1593, device='cuda:0', grad_fn=<NllLossBackward>)\n",
            "e :  0 loss :  tensor(5.1208, device='cuda:0', grad_fn=<NllLossBackward>)\n",
            "e :  0 loss :  tensor(5.0883, device='cuda:0', grad_fn=<NllLossBackward>)\n",
            "e :  0 loss :  tensor(5.0920, device='cuda:0', grad_fn=<NllLossBackward>)\n",
            "e :  0 loss :  tensor(5.0208, device='cuda:0', grad_fn=<NllLossBackward>)\n",
            "e :  0 loss :  tensor(5.0241, device='cuda:0', grad_fn=<NllLossBackward>)\n",
            "e :  0 loss :  tensor(4.9857, device='cuda:0', grad_fn=<NllLossBackward>)\n",
            "e :  0 loss :  tensor(4.9322, device='cuda:0', grad_fn=<NllLossBackward>)\n",
            "e :  0 loss :  tensor(5.0496, device='cuda:0', grad_fn=<NllLossBackward>)\n",
            "cur acc :  0.14652479500195237\n",
            "e :  1 loss :  tensor(4.8856, device='cuda:0', grad_fn=<NllLossBackward>)\n",
            "e :  1 loss :  tensor(4.8766, device='cuda:0', grad_fn=<NllLossBackward>)\n",
            "e :  1 loss :  tensor(4.8659, device='cuda:0', grad_fn=<NllLossBackward>)\n",
            "e :  1 loss :  tensor(4.9118, device='cuda:0', grad_fn=<NllLossBackward>)\n",
            "e :  1 loss :  tensor(4.7994, device='cuda:0', grad_fn=<NllLossBackward>)\n",
            "e :  1 loss :  tensor(4.8652, device='cuda:0', grad_fn=<NllLossBackward>)\n",
            "e :  1 loss :  tensor(4.8482, device='cuda:0', grad_fn=<NllLossBackward>)\n",
            "e :  1 loss :  tensor(4.8000, device='cuda:0', grad_fn=<NllLossBackward>)\n",
            "e :  1 loss :  tensor(4.9090, device='cuda:0', grad_fn=<NllLossBackward>)\n",
            "cur acc :  0.3266790316282702\n",
            "e :  2 loss :  tensor(4.7579, device='cuda:0', grad_fn=<NllLossBackward>)\n",
            "e :  2 loss :  tensor(4.7837, device='cuda:0', grad_fn=<NllLossBackward>)\n",
            "e :  2 loss :  tensor(4.7632, device='cuda:0', grad_fn=<NllLossBackward>)\n",
            "e :  2 loss :  tensor(4.8201, device='cuda:0', grad_fn=<NllLossBackward>)\n",
            "e :  2 loss :  tensor(4.7163, device='cuda:0', grad_fn=<NllLossBackward>)\n",
            "e :  2 loss :  tensor(4.8092, device='cuda:0', grad_fn=<NllLossBackward>)\n",
            "e :  2 loss :  tensor(4.7656, device='cuda:0', grad_fn=<NllLossBackward>)\n",
            "e :  2 loss :  tensor(4.7393, device='cuda:0', grad_fn=<NllLossBackward>)\n",
            "e :  2 loss :  tensor(4.8521, device='cuda:0', grad_fn=<NllLossBackward>)\n",
            "cur acc :  0.4008199921905506\n",
            "e :  3 loss :  tensor(4.7024, device='cuda:0', grad_fn=<NllLossBackward>)\n",
            "e :  3 loss :  tensor(4.7459, device='cuda:0', grad_fn=<NllLossBackward>)\n",
            "e :  3 loss :  tensor(4.7134, device='cuda:0', grad_fn=<NllLossBackward>)\n",
            "e :  3 loss :  tensor(4.7792, device='cuda:0', grad_fn=<NllLossBackward>)\n",
            "e :  3 loss :  tensor(4.6764, device='cuda:0', grad_fn=<NllLossBackward>)\n",
            "e :  3 loss :  tensor(4.7719, device='cuda:0', grad_fn=<NllLossBackward>)\n",
            "e :  3 loss :  tensor(4.7355, device='cuda:0', grad_fn=<NllLossBackward>)\n",
            "e :  3 loss :  tensor(4.7151, device='cuda:0', grad_fn=<NllLossBackward>)\n",
            "e :  3 loss :  tensor(4.6713, device='cuda:0', grad_fn=<NllLossBackward>)\n",
            "cur acc :  0.43713393205778994\n",
            "e :  4 loss :  tensor(4.6756, device='cuda:0', grad_fn=<NllLossBackward>)\n",
            "e :  4 loss :  tensor(4.7100, device='cuda:0', grad_fn=<NllLossBackward>)\n",
            "e :  4 loss :  tensor(4.6822, device='cuda:0', grad_fn=<NllLossBackward>)\n",
            "e :  4 loss :  tensor(4.7347, device='cuda:0', grad_fn=<NllLossBackward>)\n",
            "e :  4 loss :  tensor(4.6710, device='cuda:0', grad_fn=<NllLossBackward>)\n",
            "e :  4 loss :  tensor(4.7630, device='cuda:0', grad_fn=<NllLossBackward>)\n",
            "e :  4 loss :  tensor(4.7063, device='cuda:0', grad_fn=<NllLossBackward>)\n",
            "e :  4 loss :  tensor(4.6889, device='cuda:0', grad_fn=<NllLossBackward>)\n",
            "e :  4 loss :  tensor(4.6728, device='cuda:0', grad_fn=<NllLossBackward>)\n",
            "cur acc :  0.46280749707145646\n",
            "e :  5 loss :  tensor(4.6614, device='cuda:0', grad_fn=<NllLossBackward>)\n",
            "e :  5 loss :  tensor(4.6755, device='cuda:0', grad_fn=<NllLossBackward>)\n",
            "e :  5 loss :  tensor(4.6710, device='cuda:0', grad_fn=<NllLossBackward>)\n",
            "e :  5 loss :  tensor(4.7201, device='cuda:0', grad_fn=<NllLossBackward>)\n",
            "e :  5 loss :  tensor(4.6456, device='cuda:0', grad_fn=<NllLossBackward>)\n",
            "e :  5 loss :  tensor(4.7475, device='cuda:0', grad_fn=<NllLossBackward>)\n",
            "e :  5 loss :  tensor(4.6800, device='cuda:0', grad_fn=<NllLossBackward>)\n",
            "e :  5 loss :  tensor(4.6678, device='cuda:0', grad_fn=<NllLossBackward>)\n",
            "e :  5 loss :  tensor(4.6706, device='cuda:0', grad_fn=<NllLossBackward>)\n",
            "cur acc :  0.4808180398281921\n",
            "e :  6 loss :  tensor(4.6365, device='cuda:0', grad_fn=<NllLossBackward>)\n",
            "e :  6 loss :  tensor(4.6600, device='cuda:0', grad_fn=<NllLossBackward>)\n",
            "e :  6 loss :  tensor(4.6657, device='cuda:0', grad_fn=<NllLossBackward>)\n",
            "e :  6 loss :  tensor(4.7070, device='cuda:0', grad_fn=<NllLossBackward>)\n",
            "e :  6 loss :  tensor(4.6324, device='cuda:0', grad_fn=<NllLossBackward>)\n",
            "e :  6 loss :  tensor(4.7380, device='cuda:0', grad_fn=<NllLossBackward>)\n",
            "e :  6 loss :  tensor(4.6680, device='cuda:0', grad_fn=<NllLossBackward>)\n",
            "e :  6 loss :  tensor(4.6520, device='cuda:0', grad_fn=<NllLossBackward>)\n",
            "e :  6 loss :  tensor(4.6709, device='cuda:0', grad_fn=<NllLossBackward>)\n",
            "cur acc :  0.4925322139789145\n",
            "e :  7 loss :  tensor(4.6241, device='cuda:0', grad_fn=<NllLossBackward>)\n",
            "e :  7 loss :  tensor(4.6561, device='cuda:0', grad_fn=<NllLossBackward>)\n",
            "e :  7 loss :  tensor(4.6552, device='cuda:0', grad_fn=<NllLossBackward>)\n",
            "e :  7 loss :  tensor(4.7017, device='cuda:0', grad_fn=<NllLossBackward>)\n",
            "e :  7 loss :  tensor(4.6324, device='cuda:0', grad_fn=<NllLossBackward>)\n",
            "e :  7 loss :  tensor(4.7327, device='cuda:0', grad_fn=<NllLossBackward>)\n",
            "e :  7 loss :  tensor(4.6668, device='cuda:0', grad_fn=<NllLossBackward>)\n",
            "e :  7 loss :  tensor(4.6491, device='cuda:0', grad_fn=<NllLossBackward>)\n",
            "e :  7 loss :  tensor(4.6707, device='cuda:0', grad_fn=<NllLossBackward>)\n",
            "cur acc :  0.49804763764154625\n",
            "e :  8 loss :  tensor(4.6273, device='cuda:0', grad_fn=<NllLossBackward>)\n",
            "e :  8 loss :  tensor(4.6494, device='cuda:0', grad_fn=<NllLossBackward>)\n",
            "e :  8 loss :  tensor(4.6559, device='cuda:0', grad_fn=<NllLossBackward>)\n",
            "e :  8 loss :  tensor(4.7012, device='cuda:0', grad_fn=<NllLossBackward>)\n",
            "e :  8 loss :  tensor(4.6270, device='cuda:0', grad_fn=<NllLossBackward>)\n",
            "e :  8 loss :  tensor(4.7350, device='cuda:0', grad_fn=<NllLossBackward>)\n",
            "e :  8 loss :  tensor(4.6635, device='cuda:0', grad_fn=<NllLossBackward>)\n",
            "e :  8 loss :  tensor(4.6458, device='cuda:0', grad_fn=<NllLossBackward>)\n",
            "e :  8 loss :  tensor(4.6697, device='cuda:0', grad_fn=<NllLossBackward>)\n",
            "cur acc :  0.5009273721202655\n",
            "e :  9 loss :  tensor(4.6200, device='cuda:0', grad_fn=<NllLossBackward>)\n",
            "e :  9 loss :  tensor(4.6390, device='cuda:0', grad_fn=<NllLossBackward>)\n",
            "e :  9 loss :  tensor(4.6476, device='cuda:0', grad_fn=<NllLossBackward>)\n",
            "e :  9 loss :  tensor(4.6969, device='cuda:0', grad_fn=<NllLossBackward>)\n",
            "e :  9 loss :  tensor(4.6134, device='cuda:0', grad_fn=<NllLossBackward>)\n",
            "e :  9 loss :  tensor(4.7313, device='cuda:0', grad_fn=<NllLossBackward>)\n",
            "e :  9 loss :  tensor(4.6619, device='cuda:0', grad_fn=<NllLossBackward>)\n",
            "e :  9 loss :  tensor(4.6465, device='cuda:0', grad_fn=<NllLossBackward>)\n",
            "e :  9 loss :  tensor(4.6687, device='cuda:0', grad_fn=<NllLossBackward>)\n",
            "cur acc :  0.506979695431472\n",
            "e :  10 loss :  tensor(4.6208, device='cuda:0', grad_fn=<NllLossBackward>)\n",
            "e :  10 loss :  tensor(4.6343, device='cuda:0', grad_fn=<NllLossBackward>)\n",
            "e :  10 loss :  tensor(4.6469, device='cuda:0', grad_fn=<NllLossBackward>)\n",
            "e :  10 loss :  tensor(4.6968, device='cuda:0', grad_fn=<NllLossBackward>)\n",
            "e :  10 loss :  tensor(4.6155, device='cuda:0', grad_fn=<NllLossBackward>)\n",
            "e :  10 loss :  tensor(4.7316, device='cuda:0', grad_fn=<NllLossBackward>)\n",
            "e :  10 loss :  tensor(4.6688, device='cuda:0', grad_fn=<NllLossBackward>)\n",
            "e :  10 loss :  tensor(4.6497, device='cuda:0', grad_fn=<NllLossBackward>)\n",
            "e :  10 loss :  tensor(4.6684, device='cuda:0', grad_fn=<NllLossBackward>)\n",
            "cur acc :  0.506979695431472\n",
            "e :  11 loss :  tensor(4.6195, device='cuda:0', grad_fn=<NllLossBackward>)\n",
            "e :  11 loss :  tensor(4.6335, device='cuda:0', grad_fn=<NllLossBackward>)\n",
            "e :  11 loss :  tensor(4.6458, device='cuda:0', grad_fn=<NllLossBackward>)\n",
            "e :  11 loss :  tensor(4.6882, device='cuda:0', grad_fn=<NllLossBackward>)\n",
            "e :  11 loss :  tensor(4.6156, device='cuda:0', grad_fn=<NllLossBackward>)\n",
            "e :  11 loss :  tensor(4.7235, device='cuda:0', grad_fn=<NllLossBackward>)\n",
            "e :  11 loss :  tensor(4.6612, device='cuda:0', grad_fn=<NllLossBackward>)\n",
            "e :  11 loss :  tensor(4.6414, device='cuda:0', grad_fn=<NllLossBackward>)\n",
            "e :  11 loss :  tensor(4.6692, device='cuda:0', grad_fn=<NllLossBackward>)\n",
            "cur acc :  0.5100058570870754\n",
            "e :  12 loss :  tensor(4.6136, device='cuda:0', grad_fn=<NllLossBackward>)\n",
            "e :  12 loss :  tensor(4.6335, device='cuda:0', grad_fn=<NllLossBackward>)\n",
            "e :  12 loss :  tensor(4.6385, device='cuda:0', grad_fn=<NllLossBackward>)\n",
            "e :  12 loss :  tensor(4.6904, device='cuda:0', grad_fn=<NllLossBackward>)\n",
            "e :  12 loss :  tensor(4.6053, device='cuda:0', grad_fn=<NllLossBackward>)\n",
            "e :  12 loss :  tensor(4.7233, device='cuda:0', grad_fn=<NllLossBackward>)\n",
            "e :  12 loss :  tensor(4.6611, device='cuda:0', grad_fn=<NllLossBackward>)\n",
            "e :  12 loss :  tensor(4.6375, device='cuda:0', grad_fn=<NllLossBackward>)\n",
            "e :  12 loss :  tensor(4.6696, device='cuda:0', grad_fn=<NllLossBackward>)\n",
            "cur acc :  0.5114213197969543\n",
            "e :  13 loss :  tensor(4.6167, device='cuda:0', grad_fn=<NllLossBackward>)\n",
            "e :  13 loss :  tensor(4.6390, device='cuda:0', grad_fn=<NllLossBackward>)\n",
            "e :  13 loss :  tensor(4.6439, device='cuda:0', grad_fn=<NllLossBackward>)\n",
            "e :  13 loss :  tensor(4.6890, device='cuda:0', grad_fn=<NllLossBackward>)\n",
            "e :  13 loss :  tensor(4.6074, device='cuda:0', grad_fn=<NllLossBackward>)\n",
            "e :  13 loss :  tensor(4.7233, device='cuda:0', grad_fn=<NllLossBackward>)\n",
            "e :  13 loss :  tensor(4.6611, device='cuda:0', grad_fn=<NllLossBackward>)\n",
            "e :  13 loss :  tensor(4.6375, device='cuda:0', grad_fn=<NllLossBackward>)\n",
            "e :  13 loss :  tensor(4.6687, device='cuda:0', grad_fn=<NllLossBackward>)\n",
            "cur acc :  0.5109820382663022\n",
            "e :  14 loss :  tensor(4.6127, device='cuda:0', grad_fn=<NllLossBackward>)\n",
            "e :  14 loss :  tensor(4.6304, device='cuda:0', grad_fn=<NllLossBackward>)\n",
            "e :  14 loss :  tensor(4.6383, device='cuda:0', grad_fn=<NllLossBackward>)\n",
            "e :  14 loss :  tensor(4.6880, device='cuda:0', grad_fn=<NllLossBackward>)\n",
            "e :  14 loss :  tensor(4.6061, device='cuda:0', grad_fn=<NllLossBackward>)\n",
            "e :  14 loss :  tensor(4.7234, device='cuda:0', grad_fn=<NllLossBackward>)\n",
            "e :  14 loss :  tensor(4.6608, device='cuda:0', grad_fn=<NllLossBackward>)\n",
            "e :  14 loss :  tensor(4.6330, device='cuda:0', grad_fn=<NllLossBackward>)\n",
            "e :  14 loss :  tensor(4.6685, device='cuda:0', grad_fn=<NllLossBackward>)\n",
            "cur acc :  0.5127391643889105\n",
            "e :  15 loss :  tensor(4.6144, device='cuda:0', grad_fn=<NllLossBackward>)\n",
            "e :  15 loss :  tensor(4.6313, device='cuda:0', grad_fn=<NllLossBackward>)\n",
            "e :  15 loss :  tensor(4.6377, device='cuda:0', grad_fn=<NllLossBackward>)\n",
            "e :  15 loss :  tensor(4.6783, device='cuda:0', grad_fn=<NllLossBackward>)\n",
            "e :  15 loss :  tensor(4.6063, device='cuda:0', grad_fn=<NllLossBackward>)\n",
            "e :  15 loss :  tensor(4.7194, device='cuda:0', grad_fn=<NllLossBackward>)\n",
            "e :  15 loss :  tensor(4.6583, device='cuda:0', grad_fn=<NllLossBackward>)\n",
            "e :  15 loss :  tensor(4.6355, device='cuda:0', grad_fn=<NllLossBackward>)\n",
            "e :  15 loss :  tensor(4.6685, device='cuda:0', grad_fn=<NllLossBackward>)\n",
            "cur acc :  0.5145450995704803\n",
            "e :  16 loss :  tensor(4.6123, device='cuda:0', grad_fn=<NllLossBackward>)\n",
            "e :  16 loss :  tensor(4.6296, device='cuda:0', grad_fn=<NllLossBackward>)\n",
            "e :  16 loss :  tensor(4.6338, device='cuda:0', grad_fn=<NllLossBackward>)\n",
            "e :  16 loss :  tensor(4.6765, device='cuda:0', grad_fn=<NllLossBackward>)\n",
            "e :  16 loss :  tensor(4.6024, device='cuda:0', grad_fn=<NllLossBackward>)\n",
            "e :  16 loss :  tensor(4.7170, device='cuda:0', grad_fn=<NllLossBackward>)\n",
            "e :  16 loss :  tensor(4.6571, device='cuda:0', grad_fn=<NllLossBackward>)\n",
            "e :  16 loss :  tensor(4.6339, device='cuda:0', grad_fn=<NllLossBackward>)\n",
            "e :  16 loss :  tensor(4.6683, device='cuda:0', grad_fn=<NllLossBackward>)\n",
            "cur acc :  0.5154724716907458\n",
            "e :  17 loss :  tensor(4.6105, device='cuda:0', grad_fn=<NllLossBackward>)\n",
            "e :  17 loss :  tensor(4.6256, device='cuda:0', grad_fn=<NllLossBackward>)\n",
            "e :  17 loss :  tensor(4.6357, device='cuda:0', grad_fn=<NllLossBackward>)\n",
            "e :  17 loss :  tensor(4.6741, device='cuda:0', grad_fn=<NllLossBackward>)\n",
            "e :  17 loss :  tensor(4.6020, device='cuda:0', grad_fn=<NllLossBackward>)\n",
            "e :  17 loss :  tensor(4.7153, device='cuda:0', grad_fn=<NllLossBackward>)\n",
            "e :  17 loss :  tensor(4.6566, device='cuda:0', grad_fn=<NllLossBackward>)\n",
            "e :  17 loss :  tensor(4.6293, device='cuda:0', grad_fn=<NllLossBackward>)\n",
            "e :  17 loss :  tensor(4.6682, device='cuda:0', grad_fn=<NllLossBackward>)\n",
            "cur acc :  0.5160581803982819\n",
            "e :  18 loss :  tensor(4.6103, device='cuda:0', grad_fn=<NllLossBackward>)\n",
            "e :  18 loss :  tensor(4.6262, device='cuda:0', grad_fn=<NllLossBackward>)\n",
            "e :  18 loss :  tensor(4.6369, device='cuda:0', grad_fn=<NllLossBackward>)\n",
            "e :  18 loss :  tensor(4.6734, device='cuda:0', grad_fn=<NllLossBackward>)\n",
            "e :  18 loss :  tensor(4.6129, device='cuda:0', grad_fn=<NllLossBackward>)\n",
            "e :  18 loss :  tensor(4.7166, device='cuda:0', grad_fn=<NllLossBackward>)\n",
            "e :  18 loss :  tensor(4.6567, device='cuda:0', grad_fn=<NllLossBackward>)\n",
            "e :  18 loss :  tensor(4.6299, device='cuda:0', grad_fn=<NllLossBackward>)\n",
            "e :  18 loss :  tensor(4.6685, device='cuda:0', grad_fn=<NllLossBackward>)\n",
            "cur acc :  0.5163998438110113\n",
            "e :  19 loss :  tensor(4.6258, device='cuda:0', grad_fn=<NllLossBackward>)\n",
            "e :  19 loss :  tensor(4.6256, device='cuda:0', grad_fn=<NllLossBackward>)\n",
            "e :  19 loss :  tensor(4.6337, device='cuda:0', grad_fn=<NllLossBackward>)\n",
            "e :  19 loss :  tensor(4.6731, device='cuda:0', grad_fn=<NllLossBackward>)\n",
            "e :  19 loss :  tensor(4.6021, device='cuda:0', grad_fn=<NllLossBackward>)\n",
            "e :  19 loss :  tensor(4.7153, device='cuda:0', grad_fn=<NllLossBackward>)\n",
            "e :  19 loss :  tensor(4.6566, device='cuda:0', grad_fn=<NllLossBackward>)\n",
            "e :  19 loss :  tensor(4.6292, device='cuda:0', grad_fn=<NllLossBackward>)\n",
            "e :  19 loss :  tensor(4.6683, device='cuda:0', grad_fn=<NllLossBackward>)\n",
            "cur acc :  0.5164486528699727\n",
            "e :  20 loss :  tensor(4.6103, device='cuda:0', grad_fn=<NllLossBackward>)\n",
            "e :  20 loss :  tensor(4.6254, device='cuda:0', grad_fn=<NllLossBackward>)\n",
            "e :  20 loss :  tensor(4.6334, device='cuda:0', grad_fn=<NllLossBackward>)\n",
            "e :  20 loss :  tensor(4.6725, device='cuda:0', grad_fn=<NllLossBackward>)\n",
            "e :  20 loss :  tensor(4.6020, device='cuda:0', grad_fn=<NllLossBackward>)\n",
            "e :  20 loss :  tensor(4.7153, device='cuda:0', grad_fn=<NllLossBackward>)\n",
            "e :  20 loss :  tensor(4.6566, device='cuda:0', grad_fn=<NllLossBackward>)\n",
            "e :  20 loss :  tensor(4.6291, device='cuda:0', grad_fn=<NllLossBackward>)\n",
            "e :  20 loss :  tensor(4.6685, device='cuda:0', grad_fn=<NllLossBackward>)\n",
            "cur acc :  0.5172295978133542\n",
            "e :  21 loss :  tensor(4.6099, device='cuda:0', grad_fn=<NllLossBackward>)\n",
            "e :  21 loss :  tensor(4.6253, device='cuda:0', grad_fn=<NllLossBackward>)\n",
            "e :  21 loss :  tensor(4.6332, device='cuda:0', grad_fn=<NllLossBackward>)\n",
            "e :  21 loss :  tensor(4.6724, device='cuda:0', grad_fn=<NllLossBackward>)\n",
            "e :  21 loss :  tensor(4.6018, device='cuda:0', grad_fn=<NllLossBackward>)\n",
            "e :  21 loss :  tensor(4.7152, device='cuda:0', grad_fn=<NllLossBackward>)\n",
            "e :  21 loss :  tensor(4.6565, device='cuda:0', grad_fn=<NllLossBackward>)\n",
            "e :  21 loss :  tensor(4.6253, device='cuda:0', grad_fn=<NllLossBackward>)\n",
            "e :  21 loss :  tensor(4.6683, device='cuda:0', grad_fn=<NllLossBackward>)\n",
            "cur acc :  0.518059351815697\n",
            "e :  22 loss :  tensor(4.6102, device='cuda:0', grad_fn=<NllLossBackward>)\n",
            "e :  22 loss :  tensor(4.6218, device='cuda:0', grad_fn=<NllLossBackward>)\n",
            "e :  22 loss :  tensor(4.6301, device='cuda:0', grad_fn=<NllLossBackward>)\n",
            "e :  22 loss :  tensor(4.6693, device='cuda:0', grad_fn=<NllLossBackward>)\n",
            "e :  22 loss :  tensor(4.5953, device='cuda:0', grad_fn=<NllLossBackward>)\n",
            "e :  22 loss :  tensor(4.7146, device='cuda:0', grad_fn=<NllLossBackward>)\n"
          ],
          "name": "stdout"
        },
        {
          "output_type": "error",
          "ename": "KeyboardInterrupt",
          "evalue": "ignored",
          "traceback": [
            "\u001b[0;31m---------------------------------------------------------------------------\u001b[0m",
            "\u001b[0;31mKeyboardInterrupt\u001b[0m                         Traceback (most recent call last)",
            "\u001b[0;32m<ipython-input-17-8baf8201b6f5>\u001b[0m in \u001b[0;36m<module>\u001b[0;34m()\u001b[0m\n\u001b[1;32m     23\u001b[0m     \u001b[0;32mfor\u001b[0m \u001b[0macc\u001b[0m \u001b[0;32min\u001b[0m \u001b[0mrange\u001b[0m\u001b[0;34m(\u001b[0m\u001b[0;36m0\u001b[0m\u001b[0;34m,\u001b[0m\u001b[0mmodel_output\u001b[0m\u001b[0;34m.\u001b[0m\u001b[0mshape\u001b[0m\u001b[0;34m[\u001b[0m\u001b[0;36m0\u001b[0m\u001b[0;34m]\u001b[0m\u001b[0;34m)\u001b[0m \u001b[0;34m:\u001b[0m\u001b[0;34m\u001b[0m\u001b[0;34m\u001b[0m\u001b[0m\n\u001b[1;32m     24\u001b[0m       \u001b[0mpre\u001b[0m\u001b[0;34m=\u001b[0m\u001b[0mtorch\u001b[0m\u001b[0;34m.\u001b[0m\u001b[0margmax\u001b[0m\u001b[0;34m(\u001b[0m\u001b[0mmodel_output\u001b[0m\u001b[0;34m[\u001b[0m\u001b[0macc\u001b[0m\u001b[0;34m]\u001b[0m\u001b[0;34m)\u001b[0m\u001b[0;34m\u001b[0m\u001b[0;34m\u001b[0m\u001b[0m\n\u001b[0;32m---> 25\u001b[0;31m       \u001b[0;32mif\u001b[0m \u001b[0mpre\u001b[0m\u001b[0;34m==\u001b[0m\u001b[0moutput\u001b[0m\u001b[0;34m[\u001b[0m\u001b[0macc\u001b[0m\u001b[0;34m]\u001b[0m\u001b[0;34m:\u001b[0m \u001b[0mac\u001b[0m\u001b[0;34m+=\u001b[0m\u001b[0;36m1\u001b[0m\u001b[0;34m;\u001b[0m\u001b[0;34m\u001b[0m\u001b[0;34m\u001b[0m\u001b[0m\n\u001b[0m\u001b[1;32m     26\u001b[0m \u001b[0;34m\u001b[0m\u001b[0m\n\u001b[1;32m     27\u001b[0m     \u001b[0;32mif\u001b[0m \u001b[0;34m(\u001b[0m\u001b[0mb\u001b[0m\u001b[0;34m//\u001b[0m\u001b[0mbatch_size\u001b[0m\u001b[0;34m)\u001b[0m\u001b[0;34m%\u001b[0m\u001b[0;36m10\u001b[0m\u001b[0;34m==\u001b[0m\u001b[0;36m0\u001b[0m \u001b[0;34m:\u001b[0m \u001b[0mprint\u001b[0m\u001b[0;34m(\u001b[0m\u001b[0;34m'e : '\u001b[0m\u001b[0;34m,\u001b[0m\u001b[0me\u001b[0m\u001b[0;34m,\u001b[0m\u001b[0;34m\"loss : \"\u001b[0m\u001b[0;34m,\u001b[0m\u001b[0mloss\u001b[0m\u001b[0;34m)\u001b[0m\u001b[0;34m\u001b[0m\u001b[0;34m\u001b[0m\u001b[0m\n",
            "\u001b[0;31mKeyboardInterrupt\u001b[0m: "
          ]
        }
      ]
    }
  ]
}