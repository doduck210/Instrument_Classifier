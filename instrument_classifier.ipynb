{
  "nbformat": 4,
  "nbformat_minor": 0,
  "metadata": {
    "colab": {
      "name": "instrument_classifier.ipynb",
      "provenance": [],
      "collapsed_sections": [],
      "authorship_tag": "ABX9TyNmbG4DB2ssULQw0P2tfx+8",
      "include_colab_link": true
    },
    "kernelspec": {
      "name": "python3",
      "display_name": "Python 3"
    },
    "language_info": {
      "name": "python"
    },
    "accelerator": "GPU"
  },
  "cells": [
    {
      "cell_type": "markdown",
      "metadata": {
        "id": "view-in-github",
        "colab_type": "text"
      },
      "source": [
        "<a href=\"https://colab.research.google.com/github/doduck210/Instrument_Classifier/blob/main/instrument_classifier.ipynb\" target=\"_parent\"><img src=\"https://colab.research.google.com/assets/colab-badge.svg\" alt=\"Open In Colab\"/></a>"
      ]
    },
    {
      "cell_type": "code",
      "metadata": {
        "colab": {
          "base_uri": "https://localhost:8080/"
        },
        "id": "DiXb970e2Xws",
        "outputId": "56e30bc3-4661-4ff4-ab79-2779c10d747c"
      },
      "source": [
        "#for using CoLab\n",
        "from google.colab import drive\n",
        "drive.mount('/content/gdrive')"
      ],
      "execution_count": 2,
      "outputs": [
        {
          "output_type": "stream",
          "text": [
            "Mounted at /content/gdrive\n"
          ],
          "name": "stdout"
        }
      ]
    },
    {
      "cell_type": "code",
      "metadata": {
        "colab": {
          "base_uri": "https://localhost:8080/"
        },
        "id": "GDStGHFt3ISW",
        "outputId": "e9eef2de-1430-449a-dc58-73d633fbe292"
      },
      "source": [
        "#for using CoLab\n",
        "!pip3 install http://download.pytorch.org/whl/cu80/torch-0.3.0.post4-cp36-cp36m-linux_x86_64.whl\n",
        "!pip3 install torchvision"
      ],
      "execution_count": 3,
      "outputs": [
        {
          "output_type": "stream",
          "text": [
            "\u001b[31mERROR: torch-0.3.0.post4-cp36-cp36m-linux_x86_64.whl is not a supported wheel on this platform.\u001b[0m\n",
            "Requirement already satisfied: torchvision in /usr/local/lib/python3.7/dist-packages (0.9.1+cu101)\n",
            "Requirement already satisfied: numpy in /usr/local/lib/python3.7/dist-packages (from torchvision) (1.19.5)\n",
            "Requirement already satisfied: pillow>=4.1.1 in /usr/local/lib/python3.7/dist-packages (from torchvision) (7.1.2)\n",
            "Requirement already satisfied: torch==1.8.1 in /usr/local/lib/python3.7/dist-packages (from torchvision) (1.8.1+cu101)\n",
            "Requirement already satisfied: typing-extensions in /usr/local/lib/python3.7/dist-packages (from torch==1.8.1->torchvision) (3.7.4.3)\n"
          ],
          "name": "stdout"
        }
      ]
    },
    {
      "cell_type": "code",
      "metadata": {
        "colab": {
          "base_uri": "https://localhost:8080/",
          "height": 35
        },
        "id": "-vIuifIN3TAQ",
        "outputId": "e41a0da5-5986-4c8b-b1e3-32e21294115d"
      },
      "source": [
        "import itertools\n",
        "import torch\n",
        "import torch.nn as nn\n",
        "import torch.nn.functional as F\n",
        "import torch.optim as optim\n",
        "import matplotlib.pyplot as plt\n",
        "import numpy as np\n",
        "import random\n",
        "torch.cuda.get_device_name(0)"
      ],
      "execution_count": 4,
      "outputs": [
        {
          "output_type": "execute_result",
          "data": {
            "application/vnd.google.colaboratory.intrinsic+json": {
              "type": "string"
            },
            "text/plain": [
              "'Tesla K80'"
            ]
          },
          "metadata": {
            "tags": []
          },
          "execution_count": 4
        }
      ]
    },
    {
      "cell_type": "code",
      "metadata": {
        "colab": {
          "base_uri": "https://localhost:8080/"
        },
        "id": "PnpEUvga33eE",
        "outputId": "3d1174c6-c5cb-4cc9-eedb-47bac8409f3c"
      },
      "source": [
        "#데이터 확인\n",
        "npz=np.load('/content/gdrive/My Drive/audio/cqt.npz')\n",
        "x=npz['spec']\n",
        "y=npz['instr']\n",
        "print(\"input shape : \",x.shape) \n",
        "print(\"label shape : \",y.shape)"
      ],
      "execution_count": 5,
      "outputs": [
        {
          "output_type": "stream",
          "text": [
            "input shape :  (20488, 168, 87)\n",
            "label shape :  (20488, 2)\n"
          ],
          "name": "stdout"
        }
      ]
    },
    {
      "cell_type": "code",
      "metadata": {
        "id": "1WwJYwwssuL3"
      },
      "source": [
        "use_cuda = torch.cuda.is_available()\n",
        "class InstrumentClassifier(nn.Module):\n",
        "  def __init__(self):\n",
        "    super(InstrumentClassifier,self).__init__()\n",
        "    #input : [256, 1, 168, 87]\n",
        "    conv1=nn.Conv2d(1,10,(23,4)) #6@146x84\n",
        "    bn1=nn.BatchNorm2d(10)\n",
        "    #ReLU\n",
        "    pool1=nn.MaxPool2d(2) #6@73x42\n",
        "    conv2=nn.Conv2d(10,3,(6,3)) #10@68x40\n",
        "    bn2=nn.BatchNorm2d(3)\n",
        "    #ReLU\n",
        "    pool2=nn.MaxPool2d(2) #10@34x20\n",
        "    conv3=nn.Conv2d(16,32,(5,5)) #28@30x16\n",
        "    bn3=nn.BatchNorm2d(32)\n",
        "    #ReLU\n",
        "    pool3=nn.MaxPool2d(2) #28@15x8\n",
        "    \n",
        "    dropout= nn.Dropout()\n",
        "    #nn.init.xavier_uniform_(conv1.weight)\n",
        "    #nn.init.xavier_uniform_(conv2.weight)\n",
        "    #nn.init.xavier_uniform_(conv3.weight)\n",
        "\n",
        "    self.conv_module=nn.Sequential(\n",
        "        conv1, bn1,\n",
        "        nn.ReLU(),\n",
        "        pool1,\n",
        "        conv2, bn2,\n",
        "        nn.ReLU(),\n",
        "        pool2#,\n",
        "        #conv3,\n",
        "        #nn.ReLU(),# dropout,\n",
        "        #pool3\n",
        "    )\n",
        "\n",
        "    fc1=nn.Linear(3*34*20,174)\n",
        "    #ReLU\n",
        "    #fc2=nn.Linear(500,174)\n",
        "    \n",
        "    self.fc_module=nn.Sequential(\n",
        "        fc1\n",
        "        #nn.ReLU(),\n",
        "        #fc2\n",
        "    )\n",
        "    if use_cuda:\n",
        "      self.conv_module=self.conv_module.cuda()\n",
        "      self.fc_module=self.fc_module.cuda()\n",
        "    \n",
        "  def forward(self,x):\n",
        "    out=self.conv_module(x)\n",
        "    dim=1\n",
        "    out=out.view(out.size(0),-1)\n",
        "    out=self.fc_module(out)\n",
        "    return F.softmax(out,dim=1)"
      ],
      "execution_count": 39,
      "outputs": []
    },
    {
      "cell_type": "code",
      "metadata": {
        "id": "awqyqqlw0Fbd"
      },
      "source": [
        "cnn=InstrumentClassifier()\n",
        "criterion=torch.nn.CrossEntropyLoss()\n",
        "optimizer=torch.optim.Adam(cnn.parameters(),lr=1e-3)"
      ],
      "execution_count": 40,
      "outputs": []
    },
    {
      "cell_type": "code",
      "metadata": {
        "colab": {
          "base_uri": "https://localhost:8080/",
          "height": 1000
        },
        "id": "Stqw5FcNfOYT",
        "outputId": "eb2287cf-4b51-4f5f-8c53-089f1c8e8a66"
      },
      "source": [
        "ridx = list(range(len(x)))\n",
        "random.shuffle(ridx)\n",
        "batch_size = 256\n",
        "for e in range(100):\n",
        "  ac=0\n",
        "  for b in range(0,len(ridx),batch_size) : \n",
        "    tr=ridx[b:b+batch_size]\n",
        "    input=torch.tensor(x[tr])\n",
        "    input=input.unsqueeze(1)\n",
        "    input=input.cuda()\n",
        "    output=torch.tensor(y[tr,0])\n",
        "    output=torch.tensor(output,dtype=torch.long)\n",
        "    output=output.cuda()\n",
        "    #print(\"x : \",input.shape) #torch.Size([256, 1, 168, 87])\n",
        "    #print(\"y : \",output.shape) #torch.Size([256])\n",
        "\n",
        "    optimizer.zero_grad()\n",
        "    model_output=cnn(input) #torch.Size([256, 174])\n",
        "    #print(model_output.shape)\n",
        "    loss=criterion(model_output,output)\n",
        "    loss.backward()\n",
        "    optimizer.step()\n",
        "    for acc in range(0,model_output.shape[0]) : \n",
        "      pre=torch.argmax(model_output[acc])\n",
        "      if pre==output[acc]: ac+=1;\n",
        "    \n",
        "    if (b//batch_size)%10==0 : print('e : ',e,\"loss : \",loss)\n",
        "  \n",
        "  print(\"cur acc : \",ac/len(ridx))"
      ],
      "execution_count": 41,
      "outputs": [
        {
          "output_type": "stream",
          "text": [
            "/usr/local/lib/python3.7/dist-packages/ipykernel_launcher.py:12: UserWarning: To copy construct from a tensor, it is recommended to use sourceTensor.clone().detach() or sourceTensor.clone().detach().requires_grad_(True), rather than torch.tensor(sourceTensor).\n",
            "  if sys.path[0] == '':\n"
          ],
          "name": "stderr"
        },
        {
          "output_type": "stream",
          "text": [
            "e :  0 loss :  tensor(5.1592, device='cuda:0', grad_fn=<NllLossBackward>)\n",
            "e :  0 loss :  tensor(5.1293, device='cuda:0', grad_fn=<NllLossBackward>)\n",
            "e :  0 loss :  tensor(5.0979, device='cuda:0', grad_fn=<NllLossBackward>)\n",
            "e :  0 loss :  tensor(5.0837, device='cuda:0', grad_fn=<NllLossBackward>)\n",
            "e :  0 loss :  tensor(5.0274, device='cuda:0', grad_fn=<NllLossBackward>)\n",
            "e :  0 loss :  tensor(4.9719, device='cuda:0', grad_fn=<NllLossBackward>)\n",
            "e :  0 loss :  tensor(4.9740, device='cuda:0', grad_fn=<NllLossBackward>)\n",
            "e :  0 loss :  tensor(4.9094, device='cuda:0', grad_fn=<NllLossBackward>)\n",
            "e :  0 loss :  tensor(4.6402, device='cuda:0', grad_fn=<NllLossBackward>)\n",
            "cur acc :  0.17551737602499023\n",
            "e :  1 loss :  tensor(4.7880, device='cuda:0', grad_fn=<NllLossBackward>)\n",
            "e :  1 loss :  tensor(4.8882, device='cuda:0', grad_fn=<NllLossBackward>)\n",
            "e :  1 loss :  tensor(4.8006, device='cuda:0', grad_fn=<NllLossBackward>)\n",
            "e :  1 loss :  tensor(4.7994, device='cuda:0', grad_fn=<NllLossBackward>)\n",
            "e :  1 loss :  tensor(4.7656, device='cuda:0', grad_fn=<NllLossBackward>)\n",
            "e :  1 loss :  tensor(4.7761, device='cuda:0', grad_fn=<NllLossBackward>)\n",
            "e :  1 loss :  tensor(4.7729, device='cuda:0', grad_fn=<NllLossBackward>)\n",
            "e :  1 loss :  tensor(4.6996, device='cuda:0', grad_fn=<NllLossBackward>)\n",
            "e :  1 loss :  tensor(4.3882, device='cuda:0', grad_fn=<NllLossBackward>)\n",
            "cur acc :  0.41785435376805935\n",
            "e :  2 loss :  tensor(4.5894, device='cuda:0', grad_fn=<NllLossBackward>)\n",
            "e :  2 loss :  tensor(4.6945, device='cuda:0', grad_fn=<NllLossBackward>)\n",
            "e :  2 loss :  tensor(4.6683, device='cuda:0', grad_fn=<NllLossBackward>)\n",
            "e :  2 loss :  tensor(4.6605, device='cuda:0', grad_fn=<NllLossBackward>)\n",
            "e :  2 loss :  tensor(4.6513, device='cuda:0', grad_fn=<NllLossBackward>)\n",
            "e :  2 loss :  tensor(4.6768, device='cuda:0', grad_fn=<NllLossBackward>)\n",
            "e :  2 loss :  tensor(4.6989, device='cuda:0', grad_fn=<NllLossBackward>)\n",
            "e :  2 loss :  tensor(4.6245, device='cuda:0', grad_fn=<NllLossBackward>)\n",
            "e :  2 loss :  tensor(4.1734, device='cuda:0', grad_fn=<NllLossBackward>)\n",
            "cur acc :  0.5151308082780164\n",
            "e :  3 loss :  tensor(4.5350, device='cuda:0', grad_fn=<NllLossBackward>)\n",
            "e :  3 loss :  tensor(4.6364, device='cuda:0', grad_fn=<NllLossBackward>)\n",
            "e :  3 loss :  tensor(4.6328, device='cuda:0', grad_fn=<NllLossBackward>)\n",
            "e :  3 loss :  tensor(4.5984, device='cuda:0', grad_fn=<NllLossBackward>)\n",
            "e :  3 loss :  tensor(4.6176, device='cuda:0', grad_fn=<NllLossBackward>)\n",
            "e :  3 loss :  tensor(4.6294, device='cuda:0', grad_fn=<NllLossBackward>)\n",
            "e :  3 loss :  tensor(4.6628, device='cuda:0', grad_fn=<NllLossBackward>)\n",
            "e :  3 loss :  tensor(4.5836, device='cuda:0', grad_fn=<NllLossBackward>)\n",
            "e :  3 loss :  tensor(4.1709, device='cuda:0', grad_fn=<NllLossBackward>)\n",
            "cur acc :  0.5581803982819211\n",
            "e :  4 loss :  tensor(4.4880, device='cuda:0', grad_fn=<NllLossBackward>)\n",
            "e :  4 loss :  tensor(4.6065, device='cuda:0', grad_fn=<NllLossBackward>)\n",
            "e :  4 loss :  tensor(4.6053, device='cuda:0', grad_fn=<NllLossBackward>)\n",
            "e :  4 loss :  tensor(4.5684, device='cuda:0', grad_fn=<NllLossBackward>)\n",
            "e :  4 loss :  tensor(4.5836, device='cuda:0', grad_fn=<NllLossBackward>)\n",
            "e :  4 loss :  tensor(4.6024, device='cuda:0', grad_fn=<NllLossBackward>)\n",
            "e :  4 loss :  tensor(4.6093, device='cuda:0', grad_fn=<NllLossBackward>)\n",
            "e :  4 loss :  tensor(4.5517, device='cuda:0', grad_fn=<NllLossBackward>)\n",
            "e :  4 loss :  tensor(4.1773, device='cuda:0', grad_fn=<NllLossBackward>)\n",
            "cur acc :  0.5913705583756346\n",
            "e :  5 loss :  tensor(4.4582, device='cuda:0', grad_fn=<NllLossBackward>)\n",
            "e :  5 loss :  tensor(4.5810, device='cuda:0', grad_fn=<NllLossBackward>)\n",
            "e :  5 loss :  tensor(4.5753, device='cuda:0', grad_fn=<NllLossBackward>)\n",
            "e :  5 loss :  tensor(4.5347, device='cuda:0', grad_fn=<NllLossBackward>)\n",
            "e :  5 loss :  tensor(4.5697, device='cuda:0', grad_fn=<NllLossBackward>)\n",
            "e :  5 loss :  tensor(4.5774, device='cuda:0', grad_fn=<NllLossBackward>)\n",
            "e :  5 loss :  tensor(4.5671, device='cuda:0', grad_fn=<NllLossBackward>)\n",
            "e :  5 loss :  tensor(4.5358, device='cuda:0', grad_fn=<NllLossBackward>)\n",
            "e :  5 loss :  tensor(4.1693, device='cuda:0', grad_fn=<NllLossBackward>)\n",
            "cur acc :  0.6144572432643499\n",
            "e :  6 loss :  tensor(4.4410, device='cuda:0', grad_fn=<NllLossBackward>)\n",
            "e :  6 loss :  tensor(4.5662, device='cuda:0', grad_fn=<NllLossBackward>)\n",
            "e :  6 loss :  tensor(4.5524, device='cuda:0', grad_fn=<NllLossBackward>)\n",
            "e :  6 loss :  tensor(4.5209, device='cuda:0', grad_fn=<NllLossBackward>)\n",
            "e :  6 loss :  tensor(4.5525, device='cuda:0', grad_fn=<NllLossBackward>)\n",
            "e :  6 loss :  tensor(4.5601, device='cuda:0', grad_fn=<NllLossBackward>)\n",
            "e :  6 loss :  tensor(4.5600, device='cuda:0', grad_fn=<NllLossBackward>)\n",
            "e :  6 loss :  tensor(4.5281, device='cuda:0', grad_fn=<NllLossBackward>)\n",
            "e :  6 loss :  tensor(4.1700, device='cuda:0', grad_fn=<NllLossBackward>)\n",
            "cur acc :  0.6300761421319797\n",
            "e :  7 loss :  tensor(4.4408, device='cuda:0', grad_fn=<NllLossBackward>)\n",
            "e :  7 loss :  tensor(4.5553, device='cuda:0', grad_fn=<NllLossBackward>)\n",
            "e :  7 loss :  tensor(4.5422, device='cuda:0', grad_fn=<NllLossBackward>)\n",
            "e :  7 loss :  tensor(4.5194, device='cuda:0', grad_fn=<NllLossBackward>)\n",
            "e :  7 loss :  tensor(4.5451, device='cuda:0', grad_fn=<NllLossBackward>)\n",
            "e :  7 loss :  tensor(4.5510, device='cuda:0', grad_fn=<NllLossBackward>)\n",
            "e :  7 loss :  tensor(4.5469, device='cuda:0', grad_fn=<NllLossBackward>)\n",
            "e :  7 loss :  tensor(4.5215, device='cuda:0', grad_fn=<NllLossBackward>)\n",
            "e :  7 loss :  tensor(4.1693, device='cuda:0', grad_fn=<NllLossBackward>)\n",
            "cur acc :  0.6369582194455291\n",
            "e :  8 loss :  tensor(4.4217, device='cuda:0', grad_fn=<NllLossBackward>)\n",
            "e :  8 loss :  tensor(4.5518, device='cuda:0', grad_fn=<NllLossBackward>)\n",
            "e :  8 loss :  tensor(4.5229, device='cuda:0', grad_fn=<NllLossBackward>)\n",
            "e :  8 loss :  tensor(4.5122, device='cuda:0', grad_fn=<NllLossBackward>)\n",
            "e :  8 loss :  tensor(4.5303, device='cuda:0', grad_fn=<NllLossBackward>)\n",
            "e :  8 loss :  tensor(4.5445, device='cuda:0', grad_fn=<NllLossBackward>)\n",
            "e :  8 loss :  tensor(4.5376, device='cuda:0', grad_fn=<NllLossBackward>)\n",
            "e :  8 loss :  tensor(4.5156, device='cuda:0', grad_fn=<NllLossBackward>)\n",
            "e :  8 loss :  tensor(4.1852, device='cuda:0', grad_fn=<NllLossBackward>)\n",
            "cur acc :  0.6439867239359626\n",
            "e :  9 loss :  tensor(4.4301, device='cuda:0', grad_fn=<NllLossBackward>)\n",
            "e :  9 loss :  tensor(4.5642, device='cuda:0', grad_fn=<NllLossBackward>)\n",
            "e :  9 loss :  tensor(4.5365, device='cuda:0', grad_fn=<NllLossBackward>)\n",
            "e :  9 loss :  tensor(4.5303, device='cuda:0', grad_fn=<NllLossBackward>)\n",
            "e :  9 loss :  tensor(4.5292, device='cuda:0', grad_fn=<NllLossBackward>)\n",
            "e :  9 loss :  tensor(4.5406, device='cuda:0', grad_fn=<NllLossBackward>)\n",
            "e :  9 loss :  tensor(4.5350, device='cuda:0', grad_fn=<NllLossBackward>)\n",
            "e :  9 loss :  tensor(4.5062, device='cuda:0', grad_fn=<NllLossBackward>)\n",
            "e :  9 loss :  tensor(4.1699, device='cuda:0', grad_fn=<NllLossBackward>)\n",
            "cur acc :  0.6436450605232331\n",
            "e :  10 loss :  tensor(4.4357, device='cuda:0', grad_fn=<NllLossBackward>)\n",
            "e :  10 loss :  tensor(4.5520, device='cuda:0', grad_fn=<NllLossBackward>)\n",
            "e :  10 loss :  tensor(4.5138, device='cuda:0', grad_fn=<NllLossBackward>)\n",
            "e :  10 loss :  tensor(4.5179, device='cuda:0', grad_fn=<NllLossBackward>)\n",
            "e :  10 loss :  tensor(4.5269, device='cuda:0', grad_fn=<NllLossBackward>)\n",
            "e :  10 loss :  tensor(4.5377, device='cuda:0', grad_fn=<NllLossBackward>)\n",
            "e :  10 loss :  tensor(4.5295, device='cuda:0', grad_fn=<NllLossBackward>)\n",
            "e :  10 loss :  tensor(4.4949, device='cuda:0', grad_fn=<NllLossBackward>)\n",
            "e :  10 loss :  tensor(4.1691, device='cuda:0', grad_fn=<NllLossBackward>)\n",
            "cur acc :  0.6510152284263959\n",
            "e :  11 loss :  tensor(4.4340, device='cuda:0', grad_fn=<NllLossBackward>)\n",
            "e :  11 loss :  tensor(4.5460, device='cuda:0', grad_fn=<NllLossBackward>)\n",
            "e :  11 loss :  tensor(4.5037, device='cuda:0', grad_fn=<NllLossBackward>)\n",
            "e :  11 loss :  tensor(4.5167, device='cuda:0', grad_fn=<NllLossBackward>)\n",
            "e :  11 loss :  tensor(4.5222, device='cuda:0', grad_fn=<NllLossBackward>)\n",
            "e :  11 loss :  tensor(4.5290, device='cuda:0', grad_fn=<NllLossBackward>)\n",
            "e :  11 loss :  tensor(4.5207, device='cuda:0', grad_fn=<NllLossBackward>)\n",
            "e :  11 loss :  tensor(4.4923, device='cuda:0', grad_fn=<NllLossBackward>)\n",
            "e :  11 loss :  tensor(4.1697, device='cuda:0', grad_fn=<NllLossBackward>)\n",
            "cur acc :  0.6561889886762983\n",
            "e :  12 loss :  tensor(4.4857, device='cuda:0', grad_fn=<NllLossBackward>)\n",
            "e :  12 loss :  tensor(4.5513, device='cuda:0', grad_fn=<NllLossBackward>)\n",
            "e :  12 loss :  tensor(4.5008, device='cuda:0', grad_fn=<NllLossBackward>)\n",
            "e :  12 loss :  tensor(4.5155, device='cuda:0', grad_fn=<NllLossBackward>)\n",
            "e :  12 loss :  tensor(4.5236, device='cuda:0', grad_fn=<NllLossBackward>)\n",
            "e :  12 loss :  tensor(4.5296, device='cuda:0', grad_fn=<NllLossBackward>)\n",
            "e :  12 loss :  tensor(4.5148, device='cuda:0', grad_fn=<NllLossBackward>)\n",
            "e :  12 loss :  tensor(4.4899, device='cuda:0', grad_fn=<NllLossBackward>)\n",
            "e :  12 loss :  tensor(4.1700, device='cuda:0', grad_fn=<NllLossBackward>)\n",
            "cur acc :  0.658141351034752\n",
            "e :  13 loss :  tensor(4.4167, device='cuda:0', grad_fn=<NllLossBackward>)\n",
            "e :  13 loss :  tensor(4.5376, device='cuda:0', grad_fn=<NllLossBackward>)\n",
            "e :  13 loss :  tensor(4.4906, device='cuda:0', grad_fn=<NllLossBackward>)\n",
            "e :  13 loss :  tensor(4.5118, device='cuda:0', grad_fn=<NllLossBackward>)\n",
            "e :  13 loss :  tensor(4.5180, device='cuda:0', grad_fn=<NllLossBackward>)\n",
            "e :  13 loss :  tensor(4.5242, device='cuda:0', grad_fn=<NllLossBackward>)\n",
            "e :  13 loss :  tensor(4.5061, device='cuda:0', grad_fn=<NllLossBackward>)\n",
            "e :  13 loss :  tensor(4.4883, device='cuda:0', grad_fn=<NllLossBackward>)\n",
            "e :  13 loss :  tensor(4.1689, device='cuda:0', grad_fn=<NllLossBackward>)\n",
            "cur acc :  0.6649746192893401\n",
            "e :  14 loss :  tensor(4.4215, device='cuda:0', grad_fn=<NllLossBackward>)\n",
            "e :  14 loss :  tensor(4.5426, device='cuda:0', grad_fn=<NllLossBackward>)\n",
            "e :  14 loss :  tensor(4.4855, device='cuda:0', grad_fn=<NllLossBackward>)\n",
            "e :  14 loss :  tensor(4.5064, device='cuda:0', grad_fn=<NllLossBackward>)\n",
            "e :  14 loss :  tensor(4.5161, device='cuda:0', grad_fn=<NllLossBackward>)\n",
            "e :  14 loss :  tensor(4.5222, device='cuda:0', grad_fn=<NllLossBackward>)\n",
            "e :  14 loss :  tensor(4.5056, device='cuda:0', grad_fn=<NllLossBackward>)\n",
            "e :  14 loss :  tensor(4.4874, device='cuda:0', grad_fn=<NllLossBackward>)\n",
            "e :  14 loss :  tensor(4.1689, device='cuda:0', grad_fn=<NllLossBackward>)\n",
            "cur acc :  0.667659117532214\n",
            "e :  15 loss :  tensor(4.4033, device='cuda:0', grad_fn=<NllLossBackward>)\n"
          ],
          "name": "stdout"
        },
        {
          "output_type": "error",
          "ename": "KeyboardInterrupt",
          "evalue": "ignored",
          "traceback": [
            "\u001b[0;31m---------------------------------------------------------------------------\u001b[0m",
            "\u001b[0;31mKeyboardInterrupt\u001b[0m                         Traceback (most recent call last)",
            "\u001b[0;32m<ipython-input-41-8baf8201b6f5>\u001b[0m in \u001b[0;36m<module>\u001b[0;34m()\u001b[0m\n\u001b[1;32m     23\u001b[0m     \u001b[0;32mfor\u001b[0m \u001b[0macc\u001b[0m \u001b[0;32min\u001b[0m \u001b[0mrange\u001b[0m\u001b[0;34m(\u001b[0m\u001b[0;36m0\u001b[0m\u001b[0;34m,\u001b[0m\u001b[0mmodel_output\u001b[0m\u001b[0;34m.\u001b[0m\u001b[0mshape\u001b[0m\u001b[0;34m[\u001b[0m\u001b[0;36m0\u001b[0m\u001b[0;34m]\u001b[0m\u001b[0;34m)\u001b[0m \u001b[0;34m:\u001b[0m\u001b[0;34m\u001b[0m\u001b[0;34m\u001b[0m\u001b[0m\n\u001b[1;32m     24\u001b[0m       \u001b[0mpre\u001b[0m\u001b[0;34m=\u001b[0m\u001b[0mtorch\u001b[0m\u001b[0;34m.\u001b[0m\u001b[0margmax\u001b[0m\u001b[0;34m(\u001b[0m\u001b[0mmodel_output\u001b[0m\u001b[0;34m[\u001b[0m\u001b[0macc\u001b[0m\u001b[0;34m]\u001b[0m\u001b[0;34m)\u001b[0m\u001b[0;34m\u001b[0m\u001b[0;34m\u001b[0m\u001b[0m\n\u001b[0;32m---> 25\u001b[0;31m       \u001b[0;32mif\u001b[0m \u001b[0mpre\u001b[0m\u001b[0;34m==\u001b[0m\u001b[0moutput\u001b[0m\u001b[0;34m[\u001b[0m\u001b[0macc\u001b[0m\u001b[0;34m]\u001b[0m\u001b[0;34m:\u001b[0m \u001b[0mac\u001b[0m\u001b[0;34m+=\u001b[0m\u001b[0;36m1\u001b[0m\u001b[0;34m;\u001b[0m\u001b[0;34m\u001b[0m\u001b[0;34m\u001b[0m\u001b[0m\n\u001b[0m\u001b[1;32m     26\u001b[0m \u001b[0;34m\u001b[0m\u001b[0m\n\u001b[1;32m     27\u001b[0m     \u001b[0;32mif\u001b[0m \u001b[0;34m(\u001b[0m\u001b[0mb\u001b[0m\u001b[0;34m//\u001b[0m\u001b[0mbatch_size\u001b[0m\u001b[0;34m)\u001b[0m\u001b[0;34m%\u001b[0m\u001b[0;36m10\u001b[0m\u001b[0;34m==\u001b[0m\u001b[0;36m0\u001b[0m \u001b[0;34m:\u001b[0m \u001b[0mprint\u001b[0m\u001b[0;34m(\u001b[0m\u001b[0;34m'e : '\u001b[0m\u001b[0;34m,\u001b[0m\u001b[0me\u001b[0m\u001b[0;34m,\u001b[0m\u001b[0;34m\"loss : \"\u001b[0m\u001b[0;34m,\u001b[0m\u001b[0mloss\u001b[0m\u001b[0;34m)\u001b[0m\u001b[0;34m\u001b[0m\u001b[0;34m\u001b[0m\u001b[0m\n",
            "\u001b[0;31mKeyboardInterrupt\u001b[0m: "
          ]
        }
      ]
    }
  ]
}