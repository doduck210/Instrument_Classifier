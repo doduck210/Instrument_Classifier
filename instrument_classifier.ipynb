{
  "nbformat": 4,
  "nbformat_minor": 0,
  "metadata": {
    "colab": {
      "name": "instrument_classifier.ipynb",
      "provenance": [],
      "authorship_tag": "ABX9TyNF+iNvRolxZza+7L7Hnupv",
      "include_colab_link": true
    },
    "kernelspec": {
      "name": "python3",
      "display_name": "Python 3"
    },
    "language_info": {
      "name": "python"
    },
    "accelerator": "GPU"
  },
  "cells": [
    {
      "cell_type": "markdown",
      "metadata": {
        "id": "view-in-github",
        "colab_type": "text"
      },
      "source": [
        "<a href=\"https://colab.research.google.com/github/doduck210/Instrument_Classifier/blob/main/instrument_classifier.ipynb\" target=\"_parent\"><img src=\"https://colab.research.google.com/assets/colab-badge.svg\" alt=\"Open In Colab\"/></a>"
      ]
    },
    {
      "cell_type": "code",
      "metadata": {
        "colab": {
          "base_uri": "https://localhost:8080/"
        },
        "id": "DiXb970e2Xws",
        "outputId": "e7a4d2ac-0eb1-4aba-afd8-e91492279fd1"
      },
      "source": [
        "#for using CoLab\n",
        "from google.colab import drive\n",
        "drive.mount('/content/gdrive')"
      ],
      "execution_count": 1,
      "outputs": [
        {
          "output_type": "stream",
          "text": [
            "Drive already mounted at /content/gdrive; to attempt to forcibly remount, call drive.mount(\"/content/gdrive\", force_remount=True).\n"
          ],
          "name": "stdout"
        }
      ]
    },
    {
      "cell_type": "code",
      "metadata": {
        "colab": {
          "base_uri": "https://localhost:8080/"
        },
        "id": "GDStGHFt3ISW",
        "outputId": "52187bcc-c4cb-47a1-d536-7ea60d3be1c8"
      },
      "source": [
        "#for using CoLab\n",
        "!pip3 install http://download.pytorch.org/whl/cu80/torch-0.3.0.post4-cp36-cp36m-linux_x86_64.whl\n",
        "!pip3 install torchvision"
      ],
      "execution_count": 2,
      "outputs": [
        {
          "output_type": "stream",
          "text": [
            "\u001b[31mERROR: torch-0.3.0.post4-cp36-cp36m-linux_x86_64.whl is not a supported wheel on this platform.\u001b[0m\n",
            "Requirement already satisfied: torchvision in /usr/local/lib/python3.7/dist-packages (0.9.1+cu101)\n",
            "Requirement already satisfied: numpy in /usr/local/lib/python3.7/dist-packages (from torchvision) (1.19.5)\n",
            "Requirement already satisfied: pillow>=4.1.1 in /usr/local/lib/python3.7/dist-packages (from torchvision) (7.1.2)\n",
            "Requirement already satisfied: torch==1.8.1 in /usr/local/lib/python3.7/dist-packages (from torchvision) (1.8.1+cu101)\n",
            "Requirement already satisfied: typing-extensions in /usr/local/lib/python3.7/dist-packages (from torch==1.8.1->torchvision) (3.7.4.3)\n"
          ],
          "name": "stdout"
        }
      ]
    },
    {
      "cell_type": "code",
      "metadata": {
        "colab": {
          "base_uri": "https://localhost:8080/",
          "height": 35
        },
        "id": "-vIuifIN3TAQ",
        "outputId": "d7cc3094-c2f9-49d1-e8da-9606e09efded"
      },
      "source": [
        "import itertools\n",
        "import torch\n",
        "import torch.nn as nn\n",
        "import torch.nn.functional as F\n",
        "import torch.optim as optim\n",
        "import matplotlib.pyplot as plt\n",
        "import numpy as np\n",
        "import random\n",
        "torch.cuda.get_device_name(0)"
      ],
      "execution_count": 3,
      "outputs": [
        {
          "output_type": "execute_result",
          "data": {
            "application/vnd.google.colaboratory.intrinsic+json": {
              "type": "string"
            },
            "text/plain": [
              "'Tesla T4'"
            ]
          },
          "metadata": {
            "tags": []
          },
          "execution_count": 3
        }
      ]
    },
    {
      "cell_type": "code",
      "metadata": {
        "colab": {
          "base_uri": "https://localhost:8080/"
        },
        "id": "PnpEUvga33eE",
        "outputId": "8d004873-8f3a-475d-81f8-404f7402ea57"
      },
      "source": [
        "#데이터 확인\n",
        "npz=np.load('/content/gdrive/My Drive/audio/cqt.npz')\n",
        "x=npz['spec']\n",
        "label=npz['instr']\n",
        "print(\"input shape : \",x.shape) \n",
        "print(\"label shape : \",label.shape)"
      ],
      "execution_count": 4,
      "outputs": [
        {
          "output_type": "stream",
          "text": [
            "input shape :  (20488, 168, 87)\n",
            "label shape :  (20488, 2)\n"
          ],
          "name": "stdout"
        }
      ]
    },
    {
      "cell_type": "code",
      "metadata": {
        "id": "c3irNWqi7rUQ"
      },
      "source": [
        "use_cuda = torch.cuda.is_available()\n",
        "class InstrumentClassifier(nn.Module):\n",
        "  def __init__(self):\n",
        "    super(InstrumentClassifier,self).__init__()\n",
        "    conv1=nn.Conv2d(1,8,3,1) #8@166x85\n",
        "    #ReLU\n",
        "    pool1=nn.MaxPool2d(2) #8@83x42\n",
        "    conv2=nn.Conv2d(8,16,3,1) #16@81x40\n",
        "    #ReLU\n",
        "    pool2=nn.MaxPool2d(2) #16@40x20\n",
        "\n",
        "    self.conv_module=nn.Sequential(\n",
        "        conv1,\n",
        "        nn.ReLU(),\n",
        "        pool1,\n",
        "        conv2,\n",
        "        nn.ReLU(),\n",
        "        pool2\n",
        "    )\n",
        "\n",
        "    fc1=nn.Linear(16*40*20,256)\n",
        "    #ReLU\n",
        "    fc2=nn.Linear(256,128+46)\n",
        "\n",
        "    self.fc_module=nn.Sequential(\n",
        "        fc1,\n",
        "        nn.ReLU(),\n",
        "        fc2\n",
        "    )\n",
        "\n",
        "    if use_cuda:\n",
        "      self.conv_module = self.conv_module.cuda()\n",
        "      self.fc_module = self.fc_module.cuda()\n",
        "    \n",
        "  def forward(self,x):\n",
        "    out=self.conv_module(x)\n",
        "    dim = 1\n",
        "    for d in out.size()[1:]:\n",
        "      dim = dim * d\n",
        "    out = out.view(-1, dim)\n",
        "    out = self.fc_module(out)\n",
        "    return F.softmax(out,dim=1)\n"
      ],
      "execution_count": 5,
      "outputs": []
    },
    {
      "cell_type": "code",
      "metadata": {
        "id": "1zLxHo8kE12B"
      },
      "source": [
        "cnn=InstrumentClassifier()"
      ],
      "execution_count": 6,
      "outputs": []
    },
    {
      "cell_type": "code",
      "metadata": {
        "id": "2uc27yhbK-u3"
      },
      "source": [
        "criterion=nn.CrossEntropyLoss()\n",
        "learning_rate=1e-3\n",
        "optimizer=optim.Adam(cnn.parameters(),lr=learning_rate)\n",
        "num_epochs=100"
      ],
      "execution_count": 65,
      "outputs": []
    },
    {
      "cell_type": "code",
      "metadata": {
        "colab": {
          "base_uri": "https://localhost:8080/",
          "height": 922
        },
        "id": "apVgYChXLeVy",
        "outputId": "4d27ae6f-c042-4d2e-98cf-878cf90d57bd"
      },
      "source": [
        "trn_loss_list=[]\n",
        "val_loss_list=[]\n",
        "\n",
        "for epoch in range(num_epochs):\n",
        "  trn_loss=0.0\n",
        "  for i in range(20488):#20488):\n",
        "    x_torch=torch.Tensor(x[i])\n",
        "    x_torch=x_torch.unsqueeze(0).unsqueeze(0)\n",
        "    x_torch=x_torch.cuda()\n",
        "    y_torch=torch.Tensor(label[i])\n",
        "    y_torch=y_torch[0].unsqueeze(0)\n",
        "    y_torch=y_torch.cuda()\n",
        "    y_torch=torch.tensor(y_torch,dtype=torch.long)\n",
        "    \n",
        "    optimizer.zero_grad()\n",
        "    model_output=cnn(x_torch)\n",
        "    loss=criterion(model_output,y_torch)\n",
        "    loss.backward()\n",
        "    optimizer.step()\n",
        "    if (i+1)%1000==0:\n",
        "      print(loss)\n",
        "    del loss\n",
        "    del model_output"
      ],
      "execution_count": 66,
      "outputs": [
        {
          "output_type": "stream",
          "text": [
            "/usr/local/lib/python3.7/dist-packages/ipykernel_launcher.py:13: UserWarning: To copy construct from a tensor, it is recommended to use sourceTensor.clone().detach() or sourceTensor.clone().detach().requires_grad_(True), rather than torch.tensor(sourceTensor).\n",
            "  del sys.path[0]\n"
          ],
          "name": "stderr"
        },
        {
          "output_type": "stream",
          "text": [
            "tensor(5.1689, device='cuda:0', grad_fn=<NllLossBackward>)\n",
            "tensor(5.1689, device='cuda:0', grad_fn=<NllLossBackward>)\n",
            "tensor(5.1689, device='cuda:0', grad_fn=<NllLossBackward>)\n",
            "tensor(5.1689, device='cuda:0', grad_fn=<NllLossBackward>)\n",
            "tensor(5.1689, device='cuda:0', grad_fn=<NllLossBackward>)\n",
            "tensor(5.1689, device='cuda:0', grad_fn=<NllLossBackward>)\n",
            "tensor(5.1689, device='cuda:0', grad_fn=<NllLossBackward>)\n",
            "tensor(5.1689, device='cuda:0', grad_fn=<NllLossBackward>)\n",
            "tensor(5.1689, device='cuda:0', grad_fn=<NllLossBackward>)\n",
            "tensor(5.1689, device='cuda:0', grad_fn=<NllLossBackward>)\n",
            "tensor(5.1689, device='cuda:0', grad_fn=<NllLossBackward>)\n",
            "tensor(5.1689, device='cuda:0', grad_fn=<NllLossBackward>)\n",
            "tensor(5.1689, device='cuda:0', grad_fn=<NllLossBackward>)\n",
            "tensor(5.1689, device='cuda:0', grad_fn=<NllLossBackward>)\n",
            "tensor(5.1689, device='cuda:0', grad_fn=<NllLossBackward>)\n",
            "tensor(5.1689, device='cuda:0', grad_fn=<NllLossBackward>)\n",
            "tensor(5.1689, device='cuda:0', grad_fn=<NllLossBackward>)\n",
            "tensor(5.1689, device='cuda:0', grad_fn=<NllLossBackward>)\n",
            "tensor(5.1689, device='cuda:0', grad_fn=<NllLossBackward>)\n",
            "tensor(5.1689, device='cuda:0', grad_fn=<NllLossBackward>)\n",
            "tensor(5.1689, device='cuda:0', grad_fn=<NllLossBackward>)\n",
            "tensor(5.1689, device='cuda:0', grad_fn=<NllLossBackward>)\n",
            "tensor(5.1689, device='cuda:0', grad_fn=<NllLossBackward>)\n",
            "tensor(5.1689, device='cuda:0', grad_fn=<NllLossBackward>)\n",
            "tensor(5.1689, device='cuda:0', grad_fn=<NllLossBackward>)\n",
            "tensor(5.1689, device='cuda:0', grad_fn=<NllLossBackward>)\n",
            "tensor(5.1689, device='cuda:0', grad_fn=<NllLossBackward>)\n",
            "tensor(5.1689, device='cuda:0', grad_fn=<NllLossBackward>)\n"
          ],
          "name": "stdout"
        },
        {
          "output_type": "error",
          "ename": "KeyboardInterrupt",
          "evalue": "ignored",
          "traceback": [
            "\u001b[0;31m---------------------------------------------------------------------------\u001b[0m",
            "\u001b[0;31mKeyboardInterrupt\u001b[0m                         Traceback (most recent call last)",
            "\u001b[0;32m<ipython-input-66-90bd3905347f>\u001b[0m in \u001b[0;36m<module>\u001b[0;34m()\u001b[0m\n\u001b[1;32m     16\u001b[0m     \u001b[0mmodel_output\u001b[0m\u001b[0;34m=\u001b[0m\u001b[0mcnn\u001b[0m\u001b[0;34m(\u001b[0m\u001b[0mx_torch\u001b[0m\u001b[0;34m)\u001b[0m\u001b[0;34m\u001b[0m\u001b[0;34m\u001b[0m\u001b[0m\n\u001b[1;32m     17\u001b[0m     \u001b[0mloss\u001b[0m\u001b[0;34m=\u001b[0m\u001b[0mcriterion\u001b[0m\u001b[0;34m(\u001b[0m\u001b[0mmodel_output\u001b[0m\u001b[0;34m,\u001b[0m\u001b[0my_torch\u001b[0m\u001b[0;34m)\u001b[0m\u001b[0;34m\u001b[0m\u001b[0;34m\u001b[0m\u001b[0m\n\u001b[0;32m---> 18\u001b[0;31m     \u001b[0mloss\u001b[0m\u001b[0;34m.\u001b[0m\u001b[0mbackward\u001b[0m\u001b[0;34m(\u001b[0m\u001b[0;34m)\u001b[0m\u001b[0;34m\u001b[0m\u001b[0;34m\u001b[0m\u001b[0m\n\u001b[0m\u001b[1;32m     19\u001b[0m     \u001b[0moptimizer\u001b[0m\u001b[0;34m.\u001b[0m\u001b[0mstep\u001b[0m\u001b[0;34m(\u001b[0m\u001b[0;34m)\u001b[0m\u001b[0;34m\u001b[0m\u001b[0;34m\u001b[0m\u001b[0m\n\u001b[1;32m     20\u001b[0m     \u001b[0;32mif\u001b[0m \u001b[0;34m(\u001b[0m\u001b[0mi\u001b[0m\u001b[0;34m+\u001b[0m\u001b[0;36m1\u001b[0m\u001b[0;34m)\u001b[0m\u001b[0;34m%\u001b[0m\u001b[0;36m1000\u001b[0m\u001b[0;34m==\u001b[0m\u001b[0;36m0\u001b[0m\u001b[0;34m:\u001b[0m\u001b[0;34m\u001b[0m\u001b[0;34m\u001b[0m\u001b[0m\n",
            "\u001b[0;32m/usr/local/lib/python3.7/dist-packages/torch/tensor.py\u001b[0m in \u001b[0;36mbackward\u001b[0;34m(self, gradient, retain_graph, create_graph, inputs)\u001b[0m\n\u001b[1;32m    243\u001b[0m                 \u001b[0mcreate_graph\u001b[0m\u001b[0;34m=\u001b[0m\u001b[0mcreate_graph\u001b[0m\u001b[0;34m,\u001b[0m\u001b[0;34m\u001b[0m\u001b[0;34m\u001b[0m\u001b[0m\n\u001b[1;32m    244\u001b[0m                 inputs=inputs)\n\u001b[0;32m--> 245\u001b[0;31m         \u001b[0mtorch\u001b[0m\u001b[0;34m.\u001b[0m\u001b[0mautograd\u001b[0m\u001b[0;34m.\u001b[0m\u001b[0mbackward\u001b[0m\u001b[0;34m(\u001b[0m\u001b[0mself\u001b[0m\u001b[0;34m,\u001b[0m \u001b[0mgradient\u001b[0m\u001b[0;34m,\u001b[0m \u001b[0mretain_graph\u001b[0m\u001b[0;34m,\u001b[0m \u001b[0mcreate_graph\u001b[0m\u001b[0;34m,\u001b[0m \u001b[0minputs\u001b[0m\u001b[0;34m=\u001b[0m\u001b[0minputs\u001b[0m\u001b[0;34m)\u001b[0m\u001b[0;34m\u001b[0m\u001b[0;34m\u001b[0m\u001b[0m\n\u001b[0m\u001b[1;32m    246\u001b[0m \u001b[0;34m\u001b[0m\u001b[0m\n\u001b[1;32m    247\u001b[0m     \u001b[0;32mdef\u001b[0m \u001b[0mregister_hook\u001b[0m\u001b[0;34m(\u001b[0m\u001b[0mself\u001b[0m\u001b[0;34m,\u001b[0m \u001b[0mhook\u001b[0m\u001b[0;34m)\u001b[0m\u001b[0;34m:\u001b[0m\u001b[0;34m\u001b[0m\u001b[0;34m\u001b[0m\u001b[0m\n",
            "\u001b[0;32m/usr/local/lib/python3.7/dist-packages/torch/autograd/__init__.py\u001b[0m in \u001b[0;36mbackward\u001b[0;34m(tensors, grad_tensors, retain_graph, create_graph, grad_variables, inputs)\u001b[0m\n\u001b[1;32m    145\u001b[0m     Variable._execution_engine.run_backward(\n\u001b[1;32m    146\u001b[0m         \u001b[0mtensors\u001b[0m\u001b[0;34m,\u001b[0m \u001b[0mgrad_tensors_\u001b[0m\u001b[0;34m,\u001b[0m \u001b[0mretain_graph\u001b[0m\u001b[0;34m,\u001b[0m \u001b[0mcreate_graph\u001b[0m\u001b[0;34m,\u001b[0m \u001b[0minputs\u001b[0m\u001b[0;34m,\u001b[0m\u001b[0;34m\u001b[0m\u001b[0;34m\u001b[0m\u001b[0m\n\u001b[0;32m--> 147\u001b[0;31m         allow_unreachable=True, accumulate_grad=True)  # allow_unreachable flag\n\u001b[0m\u001b[1;32m    148\u001b[0m \u001b[0;34m\u001b[0m\u001b[0m\n\u001b[1;32m    149\u001b[0m \u001b[0;34m\u001b[0m\u001b[0m\n",
            "\u001b[0;31mKeyboardInterrupt\u001b[0m: "
          ]
        }
      ]
    }
  ]
}